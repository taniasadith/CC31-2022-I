{
  "nbformat": 4,
  "nbformat_minor": 0,
  "metadata": {
    "colab": {
      "name": "Semana2.ipynb",
      "provenance": [],
      "collapsed_sections": [],
      "authorship_tag": "ABX9TyMfyJSAKASDhgl/ybXpLm77",
      "include_colab_link": true
    },
    "kernelspec": {
      "name": "python3",
      "display_name": "Python 3"
    },
    "language_info": {
      "name": "python"
    }
  },
  "cells": [
    {
      "cell_type": "markdown",
      "metadata": {
        "id": "view-in-github",
        "colab_type": "text"
      },
      "source": [
        "<a href=\"https://colab.research.google.com/github/taniasadith/CC31-2022-I/blob/main/S2/Semana2.ipynb\" target=\"_parent\"><img src=\"https://colab.research.google.com/assets/colab-badge.svg\" alt=\"Open In Colab\"/></a>"
      ]
    },
    {
      "cell_type": "markdown",
      "source": [
        "#**Temario**\n",
        "1. Colab-Markdown\n",
        "2. Compilación de c++ desde terminal\n",
        "3. Templates\n",
        "4. Recursividad"
      ],
      "metadata": {
        "id": "f6Mxixl0EkYP"
      }
    },
    {
      "cell_type": "code",
      "source": [
        "from google.colab import drive\n",
        "drive.mount('/content/drive')"
      ],
      "metadata": {
        "id": "T5pZohLwywX1"
      },
      "execution_count": null,
      "outputs": []
    },
    {
      "cell_type": "code",
      "execution_count": null,
      "metadata": {
        "colab": {
          "base_uri": "https://localhost:8080/"
        },
        "id": "mxz1tvRv2FTy",
        "outputId": "9b37a585-eb47-4c87-f32d-a1dc6ff88a51"
      },
      "outputs": [
        {
          "output_type": "stream",
          "name": "stdout",
          "text": [
            "Overwriting programa1.cpp\n"
          ]
        }
      ],
      "source": [
        "%%writefile programa1.cpp\n",
        "#include <iostream>\n",
        "using namespace std;\n",
        "int main(){\n",
        "    cout<<\"Introducción a colab\";\n",
        "    return 0;\n",
        "}"
      ]
    },
    {
      "cell_type": "code",
      "source": [
        "# compilando el código (crear el programa objeto-a.out)\n",
        "!g++ programa1.cpp"
      ],
      "metadata": {
        "id": "iWYMbmg9Fu2f"
      },
      "execution_count": null,
      "outputs": []
    },
    {
      "cell_type": "code",
      "source": [
        "#ejecutar el binario\n",
        "!./a.out"
      ],
      "metadata": {
        "colab": {
          "base_uri": "https://localhost:8080/"
        },
        "id": "Q06JaegJGont",
        "outputId": "91ff51c1-a21d-4fb7-8b7a-6c60e8c10153"
      },
      "execution_count": null,
      "outputs": [
        {
          "output_type": "stream",
          "name": "stdout",
          "text": [
            "Introducción a colab"
          ]
        }
      ]
    },
    {
      "cell_type": "code",
      "source": [
        "#en una sola linea\n",
        "!g++ programa1.cpp && ./a.out"
      ],
      "metadata": {
        "colab": {
          "base_uri": "https://localhost:8080/"
        },
        "id": "Byc9tD0-GyTV",
        "outputId": "930966ce-9eb8-480e-c9c1-866702ec7e18"
      },
      "execution_count": null,
      "outputs": [
        {
          "output_type": "stream",
          "name": "stdout",
          "text": [
            "Introducción a colab"
          ]
        }
      ]
    },
    {
      "cell_type": "code",
      "source": [
        "#Renombrando la salida\n",
        "!g++ programa1.cpp -o upc.exe && ./upc.exe"
      ],
      "metadata": {
        "colab": {
          "base_uri": "https://localhost:8080/"
        },
        "id": "j1ID14l5Huiq",
        "outputId": "2299bb83-4dd7-497c-f1db-e30c63f9cbf7"
      },
      "execution_count": null,
      "outputs": [
        {
          "output_type": "stream",
          "name": "stdout",
          "text": [
            "Introducción a colab"
          ]
        }
      ]
    },
    {
      "cell_type": "code",
      "source": [
        "#Renombrando la salida y seleccionando el compilador\n",
        "!g++ --std=c++11 programa1.cpp -o upc.exe && ./upc.exe"
      ],
      "metadata": {
        "colab": {
          "base_uri": "https://localhost:8080/"
        },
        "id": "JhAufRZiIjq8",
        "outputId": "94107911-f1b0-4482-d2a3-f862e61196ba"
      },
      "execution_count": null,
      "outputs": [
        {
          "output_type": "stream",
          "name": "stdout",
          "text": [
            "Introducción a colab"
          ]
        }
      ]
    },
    {
      "cell_type": "markdown",
      "source": [
        "##Templates"
      ],
      "metadata": {
        "id": "fCxN89iqISYc"
      }
    },
    {
      "cell_type": "markdown",
      "source": [
        "##Forma anterior(repetitivo en estructura)"
      ],
      "metadata": {
        "id": "Xerx_XzS8vGO"
      }
    },
    {
      "cell_type": "code",
      "source": [
        "%%writefile programa2.cpp\n",
        "#include <iostream>\n",
        "using std::cout; \n",
        "typedef unsigned long long ull;\n",
        "typedef long long ll;\n",
        "class NumeroP{\n",
        "\n",
        "    ull e;\n",
        "    ull d;\n",
        "\n",
        "    public:\n",
        "    NumeroP(ull e=0, ull d=0):e(e),d(d){}\n",
        "    ull getE(){return e;}\n",
        "    void setE(ull e){this->e=e;}\n",
        "    ull getD(){return d;}\n",
        "    void setD(ull d){this->d=d;}\n",
        "    void add(NumeroP n){\n",
        "        e+=n.getE();\n",
        "        d+=n.getD();\n",
        "    }\n",
        "    void print(){cout<<e<<\"\\t\"<<d<<\"\\n\";}\n",
        "};\n",
        "\n",
        "class NumeroN{\n",
        "\n",
        "    ll e;\n",
        "    ll d;\n",
        "\n",
        "    public:\n",
        "    NumeroN(ull e=0, ull d=0):e(e),d(d){}\n",
        "    ull getE(){return e;}\n",
        "    void setE(ull e){this->e=e;}\n",
        "    ull getD(){return d;}\n",
        "    void setD(ull d){this->d=d;}\n",
        "    void add(NumeroN n){\n",
        "        e+=n.getE();\n",
        "        d+=n.getD();\n",
        "    }\n",
        "    void print(){cout<<e<<\"\\t\"<<d<<\"\\n\";}\n",
        "};\n",
        "\n",
        "int main(){\n",
        "    NumeroP n1;\n",
        "    NumeroP n2(10);\n",
        "    NumeroP n3(10,20);\n",
        "    NumeroN nn1;\n",
        "    NumeroN nn2(10);\n",
        "    NumeroN nn3(10,20);\n",
        "    n1.print();\n",
        "    n2.print();\n",
        "    n3.print();\n",
        "    \n",
        "    return 0;\n",
        "}"
      ],
      "metadata": {
        "id": "0GuiJXXOIEdl",
        "colab": {
          "base_uri": "https://localhost:8080/"
        },
        "outputId": "9615684c-3ea7-4673-eeb5-b5e1bc63cb4f"
      },
      "execution_count": 8,
      "outputs": [
        {
          "output_type": "stream",
          "name": "stdout",
          "text": [
            "Overwriting programa2.cpp\n"
          ]
        }
      ]
    },
    {
      "cell_type": "code",
      "source": [
        "!g++ --std=c++11 programa2.cpp -o upc.exe && ./upc.exe"
      ],
      "metadata": {
        "id": "iC5WSmJ2wSzu",
        "colab": {
          "base_uri": "https://localhost:8080/"
        },
        "outputId": "285dec14-4920-417f-8da9-9a0d8406486b"
      },
      "execution_count": 9,
      "outputs": [
        {
          "output_type": "stream",
          "name": "stdout",
          "text": [
            "0\t0\n",
            "10\t0\n",
            "10\t20\n"
          ]
        }
      ]
    },
    {
      "cell_type": "code",
      "source": [
        "%%writefile programa3.cpp\n",
        "#include <iostream>\n",
        "using std::cout; \n",
        "typedef unsigned long long ull;\n",
        "typedef long long ll;\n",
        "\n",
        "template <class T>\n",
        "\n",
        "class Numero{\n",
        "\n",
        "    T e;\n",
        "    T d;\n",
        "\n",
        "    public:\n",
        "    Numero(T e=0, T d=0):e(e),d(d){}\n",
        "    T getE(){return e;}\n",
        "    void setE(T e){this->e=e;}\n",
        "    T getD(){return d;}\n",
        "    void setD(T d){this->d=d;}\n",
        "    void add(Numero n){\n",
        "        e+=n.getE();\n",
        "        d+=n.getD();\n",
        "    }\n",
        "    void print(){cout<<e<<\"\\t\"<<d<<\"\\n\";}\n",
        "};\n",
        "\n",
        "int main(){\n",
        "    Numero<ull> n1(10,20);\n",
        "    Numero<ll> n2(-10,20);\n",
        "    Numero<int> n3(7,20);\n",
        "    Numero<double> n4(10.26,20.8);\n",
        "    Numero<float> n5(10.8,20);\n",
        "    \n",
        "    n1.print();\n",
        "    \n",
        "    return 0;\n",
        "}"
      ],
      "metadata": {
        "colab": {
          "base_uri": "https://localhost:8080/"
        },
        "id": "We_oY14Iy7D8",
        "outputId": "d699f5fa-8c90-472a-b616-5c5e83cdecef"
      },
      "execution_count": 17,
      "outputs": [
        {
          "output_type": "stream",
          "name": "stdout",
          "text": [
            "Overwriting programa3.cpp\n"
          ]
        }
      ]
    },
    {
      "cell_type": "code",
      "source": [
        "!g++ --std=c++11 programa3.cpp -o upc.exe && ./upc.exe"
      ],
      "metadata": {
        "colab": {
          "base_uri": "https://localhost:8080/"
        },
        "id": "g3PKcWAs9xT7",
        "outputId": "82195cec-0e87-4669-e10d-c49aa62f8ebe"
      },
      "execution_count": 18,
      "outputs": [
        {
          "output_type": "stream",
          "name": "stdout",
          "text": [
            "10\t20\n"
          ]
        }
      ]
    },
    {
      "cell_type": "code",
      "source": [
        "%%writefile templates.cpp\n",
        "#include <iostream>\n",
        "#include <string>\n",
        "using std::string;\n",
        "struct Enemy{\n",
        "    string name;\n",
        "    unsigned short points;\n",
        "    Enemy(string name=\" \",unsigned short points=0):name(name),points(points){}\n",
        "};\n",
        "class Weapon{\n",
        "    string model;\n",
        "    public:\n",
        "    Weapon(string model=\" \"):model(model){ }\n",
        "};\n",
        "class Leader{\n",
        "    string name;\n",
        "    public:\n",
        "    Leader(){}\n",
        "};\n",
        "template <class T>\n",
        "class Array{\n",
        "    T* arr;\n",
        "    unsigned short i;\n",
        "    public:\n",
        "    Array(){\n",
        "        arr=new T[10];\n",
        "        i=0;\n",
        "    }\n",
        "    void insert(T t){\n",
        "        if(i<10){\n",
        "          arr[i]=t;\n",
        "          ++i;\n",
        "        }\n",
        "        \n",
        "    }\n",
        "};\n",
        "int main(){\n",
        "    Array<Enemy> enemigos;\n",
        "    Array<Weapon> armas;\n",
        "    Array<Leader> personajes;\n",
        "    for(size_t i=0;i<10;i++){\n",
        "        enemigos.insert(Enemy(\"xyz\",i));\n",
        "        armas.insert(Weapon(\"mno\"));\n",
        "        personajes.insert(Leader());\n",
        "    }\n",
        "}"
      ],
      "metadata": {
        "colab": {
          "base_uri": "https://localhost:8080/"
        },
        "id": "_DAyqgF_9zdl",
        "outputId": "8c3b0522-7319-402f-f859-560e1d9b2d60"
      },
      "execution_count": 36,
      "outputs": [
        {
          "output_type": "stream",
          "name": "stdout",
          "text": [
            "Overwriting templates.cpp\n"
          ]
        }
      ]
    },
    {
      "cell_type": "code",
      "source": [
        "!g++ --std=c++11 templates.cpp -o upc.exe && ./upc.exe"
      ],
      "metadata": {
        "id": "43ev_stVSOjY"
      },
      "execution_count": 37,
      "outputs": []
    },
    {
      "cell_type": "code",
      "source": [
        ""
      ],
      "metadata": {
        "id": "r-egm5ZASkAI"
      },
      "execution_count": null,
      "outputs": []
    }
  ]
}