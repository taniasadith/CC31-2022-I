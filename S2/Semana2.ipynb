{
  "nbformat": 4,
  "nbformat_minor": 0,
  "metadata": {
    "colab": {
      "name": "Semana2.ipynb",
      "provenance": [],
      "collapsed_sections": [],
      "authorship_tag": "ABX9TyPYQsOi73hRbXDIOCzitgnq"
    },
    "kernelspec": {
      "name": "python3",
      "display_name": "Python 3"
    },
    "language_info": {
      "name": "python"
    }
  },
  "cells": [
    {
      "cell_type": "markdown",
      "source": [
        "#**Temario**\n",
        "1. Colab-Markdown\n",
        "2. Compilación de c++ desde terminal\n",
        "3. Templates\n",
        "4. Recursividad"
      ],
      "metadata": {
        "id": "f6Mxixl0EkYP"
      }
    },
    {
      "cell_type": "code",
      "execution_count": 9,
      "metadata": {
        "colab": {
          "base_uri": "https://localhost:8080/"
        },
        "id": "mxz1tvRv2FTy",
        "outputId": "9b37a585-eb47-4c87-f32d-a1dc6ff88a51"
      },
      "outputs": [
        {
          "output_type": "stream",
          "name": "stdout",
          "text": [
            "Overwriting programa1.cpp\n"
          ]
        }
      ],
      "source": [
        "%%writefile programa1.cpp\n",
        "#include <iostream>\n",
        "using namespace std;\n",
        "int main(){\n",
        "    cout<<\"Introducción a colab\";\n",
        "    return 0;\n",
        "}"
      ]
    },
    {
      "cell_type": "code",
      "source": [
        "# compilando el código (crear el programa objeto-a.out)\n",
        "!g++ programa1.cpp"
      ],
      "metadata": {
        "id": "iWYMbmg9Fu2f"
      },
      "execution_count": 10,
      "outputs": []
    },
    {
      "cell_type": "code",
      "source": [
        "#ejecutar el binario\n",
        "!./a.out"
      ],
      "metadata": {
        "colab": {
          "base_uri": "https://localhost:8080/"
        },
        "id": "Q06JaegJGont",
        "outputId": "91ff51c1-a21d-4fb7-8b7a-6c60e8c10153"
      },
      "execution_count": 11,
      "outputs": [
        {
          "output_type": "stream",
          "name": "stdout",
          "text": [
            "Introducción a colab"
          ]
        }
      ]
    },
    {
      "cell_type": "code",
      "source": [
        "#en una sola linea\n",
        "!g++ programa1.cpp && ./a.out"
      ],
      "metadata": {
        "colab": {
          "base_uri": "https://localhost:8080/"
        },
        "id": "Byc9tD0-GyTV",
        "outputId": "930966ce-9eb8-480e-c9c1-866702ec7e18"
      },
      "execution_count": 12,
      "outputs": [
        {
          "output_type": "stream",
          "name": "stdout",
          "text": [
            "Introducción a colab"
          ]
        }
      ]
    },
    {
      "cell_type": "code",
      "source": [
        "#Renombrando la salida\n",
        "!g++ programa1.cpp -o upc.exe && ./upc.exe"
      ],
      "metadata": {
        "colab": {
          "base_uri": "https://localhost:8080/"
        },
        "id": "j1ID14l5Huiq",
        "outputId": "2299bb83-4dd7-497c-f1db-e30c63f9cbf7"
      },
      "execution_count": 13,
      "outputs": [
        {
          "output_type": "stream",
          "name": "stdout",
          "text": [
            "Introducción a colab"
          ]
        }
      ]
    },
    {
      "cell_type": "code",
      "source": [
        "#Renombrando la salida y seleccionando el compilador\n",
        "!g++ --std=c++11 programa1.cpp -o upc.exe && ./upc.exe"
      ],
      "metadata": {
        "colab": {
          "base_uri": "https://localhost:8080/"
        },
        "id": "JhAufRZiIjq8",
        "outputId": "94107911-f1b0-4482-d2a3-f862e61196ba"
      },
      "execution_count": 14,
      "outputs": [
        {
          "output_type": "stream",
          "name": "stdout",
          "text": [
            "Introducción a colab"
          ]
        }
      ]
    },
    {
      "cell_type": "markdown",
      "source": [
        "##Templates"
      ],
      "metadata": {
        "id": "fCxN89iqISYc"
      }
    },
    {
      "cell_type": "code",
      "source": [
        ""
      ],
      "metadata": {
        "id": "0GuiJXXOIEdl"
      },
      "execution_count": null,
      "outputs": []
    }
  ]
}